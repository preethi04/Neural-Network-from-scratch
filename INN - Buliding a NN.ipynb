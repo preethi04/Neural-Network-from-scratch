{
 "cells": [
  {
   "cell_type": "markdown",
   "id": "5f00eb8c",
   "metadata": {},
   "source": [
    "## Building a Neural Network"
   ]
  },
  {
   "cell_type": "markdown",
   "id": "e9308aea",
   "metadata": {},
   "source": [
    "##### Problem Statement -\n",
    "1) To build a 2 layer neural network with 30 neutron in the hidden layer from scratch using Python.  \n",
    "2) To build the same neural network using Pytorch and compare the results.  \n",
    "3) Try to use training tips and compare accuracies"
   ]
  },
  {
   "cell_type": "markdown",
   "id": "49b6b1e6",
   "metadata": {},
   "source": [
    "#### Neural Network Without Pytorch"
   ]
  },
  {
   "cell_type": "markdown",
   "id": "b22077d6",
   "metadata": {},
   "source": [
    "Let's define the task in detail:  \n",
    "- Implement neural network to recognize handwritten digits using stochastic gradient descent and the MNIST data.\n",
    "    - This implies we need to pass one image at a time.\n",
    "- Defining the structure of the neural network\n",
    "    - Input Layer: Our input layer contains 28x28 images. Converting these images into one array, we get 28x28 = 784 elements.\n",
    "    - Hidden Layer: Here the number of nodes in the input layer is to be reduced to 30 nodes.\n",
    "    - Output Layer: The output layer is reduced further to 10 nodes, so that we can evaluate the nodes aganist the labels."
   ]
  },
  {
   "cell_type": "markdown",
   "id": "59d0c800",
   "metadata": {},
   "source": [
    "#### Q1 - To build a 2 layer neural network with 30 neutron in the hidden layer from scratch using Python."
   ]
  },
  {
   "cell_type": "markdown",
   "id": "3dfad619",
   "metadata": {},
   "source": [
    "#### Import Required Packages"
   ]
  },
  {
   "cell_type": "code",
   "execution_count": 265,
   "id": "cf171e44",
   "metadata": {},
   "outputs": [],
   "source": [
    "import numpy as np\n",
    "from pkg_resources import DEVELOP_DIST\n",
    "from sklearn import datasets\n",
    "from sklearn.model_selection import train_test_split\n",
    "from matplotlib import pyplot as plt\n",
    "import warnings\n",
    "warnings.filterwarnings('ignore')"
   ]
  },
  {
   "cell_type": "markdown",
   "id": "b5cd86e4",
   "metadata": {},
   "source": [
    "#### Load Data"
   ]
  },
  {
   "cell_type": "code",
   "execution_count": 266,
   "id": "43512f44",
   "metadata": {},
   "outputs": [],
   "source": [
    "#Loading the data\n",
    "data = datasets.fetch_openml('mnist_784')"
   ]
  },
  {
   "cell_type": "code",
   "execution_count": 333,
   "id": "715c8abd",
   "metadata": {
    "scrolled": true
   },
   "outputs": [
    {
     "name": "stdout",
     "output_type": "stream",
     "text": [
      "X Shape: (70000, 784)\n",
      "y Shape: (70000,)\n",
      "X_train Shape: (784, 42000)\n",
      "y_train Shape: (42000,)\n",
      "X_valid Shape: (784, 9000)\n",
      "y_valid Shape: (9000,)\n",
      "X_test Shape: (784, 9000)\n",
      "y_test Shape: (9000,)\n"
     ]
    }
   ],
   "source": [
    "#Convert the data to numpy array\n",
    "X = data.data.to_numpy()\n",
    "#convert the target label to numpy array\n",
    "y = data.target.to_numpy()\n",
    "\n",
    "def one_hot(Y):\n",
    "    Y = Y.astype(np.int64)\n",
    "    one_hot_Y = np.zeros((Y.size, 10))\n",
    "    one_hot_Y[np.arange(Y.size), Y] = 1\n",
    "    return one_hot_Y.T\n",
    "\n",
    "#Checking the shape of both X and y\n",
    "print(\"X Shape:\", X.shape)\n",
    "print(\"y Shape:\", y.shape)\n",
    "\n",
    "#Normalize the data by dividing it by 255 so that all the images have values between 0 and 1\n",
    "X = (X/255).astype('float32')\n",
    "X = np.array(X)\n",
    "\n",
    "\n",
    "'''Transpose to feed 784 into the input layer'''\n",
    "\n",
    "#Making the train(70%), validation(15%) and Test(15%) splits in X and y\n",
    "X_train = X[0:42000].T \n",
    "X_valid = X[42000:51000].T\n",
    "X_test = X[51000:60000].T\n",
    "\n",
    "y_train = y[:42000]\n",
    "y_valid = y[42000:51000]\n",
    "y_test = y[51000:60000]\n",
    "\n",
    "#Checking the shape of all the data after split\n",
    "print(\"X_train Shape:\", X_train.shape)\n",
    "print(\"y_train Shape:\", y_train.shape)\n",
    "print(\"X_valid Shape:\", X_valid.shape)\n",
    "print(\"y_valid Shape:\", y_valid.shape)\n",
    "print(\"X_test Shape:\", X_test.shape)\n",
    "print(\"y_test Shape:\", y_test.shape)\n",
    "\n",
    "#Defining lists to store accuracy of train and validation\n",
    "val_acc_list = []\n",
    "train_acc_list = []\n",
    "\n",
    "class NeuralNetwork:\n",
    "    #initialize the class using a the init function\n",
    "    def __init__(self, size, batch_size, epochs = 1, learning_rate = 0.005):\n",
    "        self.size = size\n",
    "        self.epochs = epochs\n",
    "        self.batch_size = batch_size\n",
    "        self.learning_rate = learning_rate\n",
    "        \n",
    "        #initialize the weights using the following function\n",
    "        self.weight_params = self.initialize_weights()\n",
    "        \n",
    "        #To introduce bais\n",
    "        self.bais_params = self.initialize_bais()\n",
    "\n",
    "    '''Function for initializing weights'''\n",
    "    def initialize_weights(self):\n",
    "        #initializing each layer with the size, in our case 784, 30 and 10\n",
    "        input_layer=self.size[0]\n",
    "        hidden_layer=self.size[1]\n",
    "        output_layer=self.size[2]\n",
    "        \n",
    "        #initializing weights\n",
    "        '''As part of setting the hyperparameters, the weight initialization when multipled with *0.01 improves performance'''\n",
    "        weight_params = {\n",
    "            'W1':np.random.randn(hidden_layer, input_layer) *0.01,\n",
    "            'W2':np.random.randn(output_layer, hidden_layer) * 0.01}\n",
    "        \n",
    "        return weight_params\n",
    "    \n",
    "    '''Function for initializing bias'''\n",
    "    def initialize_bais(self):\n",
    "        #initializing random bais for each layer\n",
    "        '''As part of setting the hyperparameters, the bais initialization when multipled with *0.01 improves performance'''\n",
    "        bais_params = {\n",
    "            'b1':np.random.randn(30, 1)*0.01,\n",
    "            'b2':np.random.randn(10, 1)*0.01\n",
    "        }\n",
    "        \n",
    "        return bais_params\n",
    "        \n",
    "    '''Function for Forward Propogation'''\n",
    "    def forward_propogation(self, X_train):\n",
    "        cal_params = {}\n",
    "        cal_params['A0'] = X_train\n",
    "        \n",
    "        #for each layer sequentially apply dot product and then followed by the activation function (sigmoid)\n",
    "        cal_params['Z1'] = self.weight_params['W1'].dot(cal_params['A0']) + self.bais_params['b1']\n",
    "        cal_params['A1'] = self.sigmoid(cal_params['Z1'])\n",
    "        \n",
    "        # hidden layer to output layer\n",
    "        cal_params['Z2'] = self.weight_params['W2'].dot(cal_params['A1']) + self.bais_params['b2']\n",
    "        \n",
    "        #output layer activation function\n",
    "        cal_params['A2'] = self.sigmoid(cal_params['Z2'])\n",
    "        \n",
    "        return cal_params\n",
    "    \n",
    "    '''activation function sigmoid for forward propogation'''\n",
    "    def dev_sigmoid(self, x):\n",
    "        return self.sigmoid(x) * (1-self.sigmoid(x))\n",
    "    \n",
    "    ''' derivative of sigmoid function for backpropogation'''\n",
    "    def sigmoid(self, x):\n",
    "        return (1/(1 + np.exp(-x)))\n",
    "    \n",
    "    '''loss function'''\n",
    "    def NN_loss(self, y, A2):\n",
    "        return np.sum((A2 - y)*(A2 - y)) * 1/y.size\n",
    "        \n",
    "    '''Function for Backward Propogation'''\n",
    "    def backward_propogation(self, output, y_train):\n",
    "        '''to calculate the error rate for W2 we need the output of forward propogation,\n",
    "        which is A2 and we need to subtract with y_train to get the initial error\n",
    "        '''\n",
    "        drev_params = {}\n",
    "        batch_size = y_train.size\n",
    "        \n",
    "        #One-hot encode the labels - will be easier to subtract these lables from the output of the network\n",
    "        y_train = one_hot(y_train)\n",
    "\n",
    "        #Cost function for output layer to hidden layer\n",
    "        dZ2 =  1/batch_size * (output['A2'] - y_train) * (self.dev_sigmoid(output['Z2']))\n",
    "        \n",
    "        #Calculate the gradient of the weights and bias (output layer to hidden layer)\n",
    "        drev_params['dW2'] = dZ2.dot(output['A1'].T)\n",
    "        drev_params['db2'] = np.sum(dZ2, axis = 1)\n",
    "        drev_params['db2'] = drev_params['db2'].reshape((10,1))\n",
    "       \n",
    "        #Cost function for hidden layer to input layer\n",
    "        dZ1 = self.weight_params['W2'].T.dot(dZ2) * (self.dev_sigmoid(output['Z1']))\n",
    "        \n",
    "        #Calculate the gradient of the weights and bias (hidden layer to input layer)\n",
    "        drev_params['dW1'] = dZ1.dot(output['A0'].T)\n",
    "        drev_params['db1'] = np.sum(dZ1, axis = 1)\n",
    "        drev_params['db1'] = drev_params['db1'].reshape((30,1))                                    \n",
    "        \n",
    "        return drev_params\n",
    "    \n",
    "    '''Fucntion to update parameters after backward propogation - happens after each epoch'''\n",
    "    def update_parameters(self, drev_params):\n",
    "        self.weight_params['W1'] = self.weight_params['W1'] - self.learning_rate * drev_params['dW1']\n",
    "        self.bais_params['b1'] = self.bais_params['b1'] - self.learning_rate *drev_params['db1']\n",
    "        self.weight_params['W2'] = self.weight_params['W2'] - self.learning_rate * drev_params['dW2']\n",
    "        self.bais_params['b2'] = self.bais_params['b2'] - self.learning_rate * drev_params['db2']\n",
    "    \n",
    "    ''' Fcuntion to calculate accuray of the network'''\n",
    "    def NN_accuracy(self, A2, y):\n",
    "        A2 = A2.reshape(-1, 10)\n",
    "        y = y.reshape(-1, 10)\n",
    "        correct = (np.argmax(A2, axis=1) == np.argmax(y, axis=1)).sum() \n",
    "        \n",
    "        return correct\n",
    "\n",
    "    ''' Function to test the network'''  \n",
    "    def test_NN(self, X, y):\n",
    "        output = self.forward_propogation(X)\n",
    "        A2 = output['A2']\n",
    "        acc = self.NN_accuracy(A2, one_hot(y))\n",
    "        mse_loss = self.NN_loss(one_hot(y), A2)\n",
    "        \n",
    "        return acc, mse_loss\n",
    "    \n",
    "    ''' Function to train the network'''  \n",
    "    def train_NN(self, X, y):\n",
    "        \n",
    "        for i in range(self.epochs):\n",
    "            train_acc = 0\n",
    "            train_mse_loss = 0\n",
    "            \n",
    "            for j in range(0,X.shape[1],self.batch_size):\n",
    "                #forward pass\n",
    "                output = self.forward_propogation(X[:,j:j+self.batch_size])\n",
    "                \n",
    "                #backward pass\n",
    "                drev_params = self.backward_propogation(output, y[j:j+self.batch_size])\n",
    "                \n",
    "                #update parameters\n",
    "                self.update_parameters(drev_params)\n",
    "                A2 = output['A2'] \n",
    "                \n",
    "                #Train accuracy and loss\n",
    "                train_acc += self.NN_accuracy(A2, one_hot(y[j:j+self.batch_size]))\n",
    "                train_mse_loss += self.NN_loss(one_hot(y[j:j+self.batch_size]), A2)\n",
    "            train_acc_list.append(train_acc*100/len(y))\n",
    "            print('Epoch: {0}, Train_Accuracy: {1}, Train_Loss: {2}'.format(i+1, train_acc*100/len(y), train_mse_loss/len(y)))\n",
    "            \n",
    "            #Validation accuracy and loss\n",
    "            val_acc,val_mse_loss = NN.test_NN( X_valid, y_valid)\n",
    "            vaild_accuracy = val_acc*100/len(y_valid)\n",
    "            val_acc_list.append(vaild_accuracy)\n",
    "            print('Epoch: {0}, Val_Accuracy: {1}, Val_Loss: {2}'.format(i+1, vaild_accuracy , val_mse_loss/len(y_valid)))\n",
    "\n",
    "            #Test accuracy and loss\n",
    "        test_acc, test_mse_loss = NN.test_NN(X_test, y_test)\n",
    "        print('Test_Accuracy: {0}, Test_Loss: {1}'.format((test_acc*100/len(y_test)), test_mse_loss/len(y_test)))\n"
   ]
  },
  {
   "cell_type": "code",
   "execution_count": 334,
   "id": "4d6fd380",
   "metadata": {
    "scrolled": true
   },
   "outputs": [
    {
     "name": "stdout",
     "output_type": "stream",
     "text": [
      "Epoch: 1, Train_Accuracy: 12.373809523809523, Train_Loss: 0.09054933617843063\n",
      "Epoch: 1, Val_Accuracy: 22.955555555555556, Val_Loss: 9.813939240859302e-06\n",
      "Epoch: 2, Train_Accuracy: 40.16428571428571, Train_Loss: 0.07495490429590393\n",
      "Epoch: 2, Val_Accuracy: 71.13333333333333, Val_Loss: 6.670720291139263e-06\n",
      "Epoch: 3, Train_Accuracy: 68.82142857142857, Train_Loss: 0.04921699640399183\n",
      "Epoch: 3, Val_Accuracy: 46.22222222222222, Val_Loss: 4.624281815583087e-06\n",
      "Epoch: 4, Train_Accuracy: 83.63095238095238, Train_Loss: 0.034743528757418235\n",
      "Epoch: 4, Val_Accuracy: 84.27777777777777, Val_Loss: 3.3702999312716918e-06\n",
      "Epoch: 5, Train_Accuracy: 87.72857142857143, Train_Loss: 0.025965862447254875\n",
      "Epoch: 5, Val_Accuracy: 85.83333333333334, Val_Loss: 2.720733639105325e-06\n",
      "Epoch: 6, Train_Accuracy: 89.25714285714285, Train_Loss: 0.021503513340518594\n",
      "Epoch: 6, Val_Accuracy: 86.37777777777778, Val_Loss: 2.389767890925685e-06\n",
      "Epoch: 7, Train_Accuracy: 90.07619047619048, Train_Loss: 0.019064976618549886\n",
      "Epoch: 7, Val_Accuracy: 86.64444444444445, Val_Loss: 2.195389039719564e-06\n",
      "Epoch: 8, Train_Accuracy: 90.5904761904762, Train_Loss: 0.017526750383942923\n",
      "Epoch: 8, Val_Accuracy: 86.82222222222222, Val_Loss: 2.064421452341005e-06\n",
      "Epoch: 9, Train_Accuracy: 90.99285714285715, Train_Loss: 0.01643683830319103\n",
      "Epoch: 9, Val_Accuracy: 86.84444444444443, Val_Loss: 1.9676098353923344e-06\n",
      "Epoch: 10, Train_Accuracy: 91.37142857142857, Train_Loss: 0.015603822799853893\n",
      "Epoch: 10, Val_Accuracy: 86.92222222222222, Val_Loss: 1.8916201922147087e-06\n",
      "Epoch: 11, Train_Accuracy: 91.68095238095238, Train_Loss: 0.014934573229915272\n",
      "Epoch: 11, Val_Accuracy: 87.04444444444445, Val_Loss: 1.8295054747554443e-06\n",
      "Epoch: 12, Train_Accuracy: 91.96904761904761, Train_Loss: 0.014377724269012003\n",
      "Epoch: 12, Val_Accuracy: 87.27777777777777, Val_Loss: 1.7772398551972244e-06\n",
      "Epoch: 13, Train_Accuracy: 92.1952380952381, Train_Loss: 0.013902218657170668\n",
      "Epoch: 13, Val_Accuracy: 87.4, Val_Loss: 1.7322899697582714e-06\n",
      "Epoch: 14, Train_Accuracy: 92.43333333333334, Train_Loss: 0.013487992359363002\n",
      "Epoch: 14, Val_Accuracy: 87.52222222222223, Val_Loss: 1.6929607331229158e-06\n",
      "Epoch: 15, Train_Accuracy: 92.57857142857142, Train_Loss: 0.013121421704645914\n",
      "Epoch: 15, Val_Accuracy: 87.56666666666666, Val_Loss: 1.658066111067559e-06\n",
      "Epoch: 16, Train_Accuracy: 92.70952380952382, Train_Loss: 0.012792889274668467\n",
      "Epoch: 16, Val_Accuracy: 87.58888888888889, Val_Loss: 1.6267480226928354e-06\n",
      "Epoch: 17, Train_Accuracy: 92.85238095238095, Train_Loss: 0.012495385899587088\n",
      "Epoch: 17, Val_Accuracy: 87.63333333333333, Val_Loss: 1.5983690952601844e-06\n",
      "Epoch: 18, Train_Accuracy: 93.01666666666667, Train_Loss: 0.01222366167046216\n",
      "Epoch: 18, Val_Accuracy: 87.74444444444444, Val_Loss: 1.5724456023827482e-06\n",
      "Epoch: 19, Train_Accuracy: 93.1595238095238, Train_Loss: 0.011973689567913408\n",
      "Epoch: 19, Val_Accuracy: 87.72222222222223, Val_Loss: 1.5486037305864467e-06\n",
      "Epoch: 20, Train_Accuracy: 93.2452380952381, Train_Loss: 0.011742316240682775\n",
      "Epoch: 20, Val_Accuracy: 87.73333333333333, Val_Loss: 1.5265499403835785e-06\n",
      "Epoch: 21, Train_Accuracy: 93.4047619047619, Train_Loss: 0.011527027890138508\n",
      "Epoch: 21, Val_Accuracy: 87.75555555555556, Val_Loss: 1.5060501105091455e-06\n",
      "Epoch: 22, Train_Accuracy: 93.51666666666667, Train_Loss: 0.011325788842478327\n",
      "Epoch: 22, Val_Accuracy: 87.8111111111111, Val_Loss: 1.4869144110895972e-06\n",
      "Epoch: 23, Train_Accuracy: 93.64047619047619, Train_Loss: 0.011136927874330424\n",
      "Epoch: 23, Val_Accuracy: 87.85555555555555, Val_Loss: 1.4689861669937984e-06\n",
      "Epoch: 24, Train_Accuracy: 93.72619047619048, Train_Loss: 0.010959056788282406\n",
      "Epoch: 24, Val_Accuracy: 87.84444444444443, Val_Loss: 1.452133680455204e-06\n",
      "Epoch: 25, Train_Accuracy: 93.82857142857142, Train_Loss: 0.010791010702235964\n",
      "Epoch: 25, Val_Accuracy: 87.84444444444443, Val_Loss: 1.4362443270302654e-06\n",
      "Epoch: 26, Train_Accuracy: 93.93333333333334, Train_Loss: 0.010631802891326368\n",
      "Epoch: 26, Val_Accuracy: 87.9, Val_Loss: 1.421220398657867e-06\n",
      "Epoch: 27, Train_Accuracy: 94.01428571428572, Train_Loss: 0.010480589772236157\n",
      "Epoch: 27, Val_Accuracy: 87.88888888888889, Val_Loss: 1.4069762538784477e-06\n",
      "Epoch: 28, Train_Accuracy: 94.08571428571429, Train_Loss: 0.01033664354780297\n",
      "Epoch: 28, Val_Accuracy: 87.9, Val_Loss: 1.3934364065525223e-06\n",
      "Epoch: 29, Train_Accuracy: 94.14047619047619, Train_Loss: 0.010199330994866604\n",
      "Epoch: 29, Val_Accuracy: 88.05555555555556, Val_Loss: 1.3805342574988169e-06\n",
      "Epoch: 30, Train_Accuracy: 94.22619047619048, Train_Loss: 0.010068097179336218\n",
      "Epoch: 30, Val_Accuracy: 88.1, Val_Loss: 1.3682112419754284e-06\n",
      "Epoch: 31, Train_Accuracy: 94.31904761904762, Train_Loss: 0.009942452957672635\n",
      "Epoch: 31, Val_Accuracy: 88.08888888888889, Val_Loss: 1.3564162198620427e-06\n",
      "Epoch: 32, Train_Accuracy: 94.38809523809523, Train_Loss: 0.009821965245211332\n",
      "Epoch: 32, Val_Accuracy: 88.13333333333333, Val_Loss: 1.3451049724942377e-06\n",
      "Epoch: 33, Train_Accuracy: 94.44285714285714, Train_Loss: 0.00970624925373823\n",
      "Epoch: 33, Val_Accuracy: 88.16666666666666, Val_Loss: 1.334239697894006e-06\n",
      "Epoch: 34, Train_Accuracy: 94.47380952380952, Train_Loss: 0.009594962151653234\n",
      "Epoch: 34, Val_Accuracy: 88.22222222222223, Val_Loss: 1.323788426016754e-06\n",
      "Epoch: 35, Train_Accuracy: 94.54761904761905, Train_Loss: 0.009487797785817636\n",
      "Epoch: 35, Val_Accuracy: 88.2, Val_Loss: 1.313724313133618e-06\n",
      "Epoch: 36, Train_Accuracy: 94.6047619047619, Train_Loss: 0.00938448218566959\n",
      "Epoch: 36, Val_Accuracy: 88.3111111111111, Val_Loss: 1.304024815919162e-06\n",
      "Epoch: 37, Train_Accuracy: 94.66666666666667, Train_Loss: 0.009284769589269564\n",
      "Epoch: 37, Val_Accuracy: 88.33333333333334, Val_Loss: 1.2946707842114215e-06\n",
      "Epoch: 38, Train_Accuracy: 94.72380952380952, Train_Loss: 0.009188438768076686\n",
      "Epoch: 38, Val_Accuracy: 88.32222222222222, Val_Loss: 1.2856455415165734e-06\n",
      "Epoch: 39, Train_Accuracy: 94.79523809523809, Train_Loss: 0.00909528952765816\n",
      "Epoch: 39, Val_Accuracy: 88.27777777777777, Val_Loss: 1.276934038612596e-06\n",
      "Epoch: 40, Train_Accuracy: 94.86190476190477, Train_Loss: 0.00900513939923624\n",
      "Epoch: 40, Val_Accuracy: 88.28888888888889, Val_Loss: 1.2685221606702374e-06\n",
      "Epoch: 41, Train_Accuracy: 94.91428571428571, Train_Loss: 0.008917820643111777\n",
      "Epoch: 41, Val_Accuracy: 88.25555555555556, Val_Loss: 1.2603962391521081e-06\n",
      "Epoch: 42, Train_Accuracy: 94.95952380952382, Train_Loss: 0.008833177706929832\n",
      "Epoch: 42, Val_Accuracy: 88.32222222222222, Val_Loss: 1.2525427752424527e-06\n",
      "Epoch: 43, Train_Accuracy: 95.01904761904763, Train_Loss: 0.008751065221478331\n",
      "Epoch: 43, Val_Accuracy: 88.23333333333333, Val_Loss: 1.244948340065195e-06\n",
      "Epoch: 44, Train_Accuracy: 95.04285714285714, Train_Loss: 0.008671346522342195\n",
      "Epoch: 44, Val_Accuracy: 88.26666666666667, Val_Loss: 1.2375995945921112e-06\n",
      "Epoch: 45, Train_Accuracy: 95.09761904761905, Train_Loss: 0.008593892610847505\n",
      "Epoch: 45, Val_Accuracy: 88.28888888888889, Val_Loss: 1.2304833730542815e-06\n",
      "Epoch: 46, Train_Accuracy: 95.17142857142858, Train_Loss: 0.008518581437824628\n",
      "Epoch: 46, Val_Accuracy: 88.37777777777778, Val_Loss: 1.2235867902109239e-06\n",
      "Epoch: 47, Train_Accuracy: 95.23095238095237, Train_Loss: 0.008445297403025954\n",
      "Epoch: 47, Val_Accuracy: 88.35555555555555, Val_Loss: 1.2168973530919405e-06\n",
      "Epoch: 48, Train_Accuracy: 95.26904761904763, Train_Loss: 0.008373930992472335\n",
      "Epoch: 48, Val_Accuracy: 88.42222222222222, Val_Loss: 1.2104030728094632e-06\n",
      "Epoch: 49, Train_Accuracy: 95.3047619047619, Train_Loss: 0.008304378509511233\n",
      "Epoch: 49, Val_Accuracy: 88.45555555555555, Val_Loss: 1.2040925783628488e-06\n",
      "Epoch: 50, Train_Accuracy: 95.35238095238095, Train_Loss: 0.00823654188476912\n",
      "Epoch: 50, Val_Accuracy: 88.45555555555555, Val_Loss: 1.197955233349252e-06\n",
      "Test_Accuracy: 94.62222222222222, Test_Loss: 9.29725938873878e-07\n"
     ]
    }
   ],
   "source": [
    "NN = NeuralNetwork(size=[784, 30, 10], batch_size = 1, epochs = 50)\n",
    "NN.train_NN(X_train, y_train)"
   ]
  },
  {
   "cell_type": "code",
   "execution_count": 335,
   "id": "a209105c",
   "metadata": {},
   "outputs": [
    {
     "data": {
      "text/plain": [
       "Text(0, 0.5, 'Accuracy')"
      ]
     },
     "execution_count": 335,
     "metadata": {},
     "output_type": "execute_result"
    },
    {
     "data": {
      "image/png": "[encoded data removed]",
      "text/plain": [
       "<Figure size 432x288 with 1 Axes>"
      ]
     },
     "metadata": {
      "needs_background": "light"
     },
     "output_type": "display_data"
    }
   ],
   "source": [
    "#plotting train and validation outputs\n",
    "epochs_list = list(range(1, NN.epochs +1))\n",
    "plt.plot(epochs_list, train_acc_list, label='Train Accuracy')\n",
    "plt.plot(epochs_list, val_acc_list, label='Validation Accuracy')\n",
    "plt.legend()\n",
    "plt.xlabel(\"Epochs\")\n",
    "plt.ylabel(\"Accuracy\")"
   ]
  },
  {
   "cell_type": "markdown",
   "id": "d1e503c1",
   "metadata": {},
   "source": [
    "### Using Pytroch"
   ]
  },
  {
   "cell_type": "markdown",
   "id": "8b40cc5a",
   "metadata": {},
   "source": [
    "#### Q2 - To build the same neural network using Pytorch and compare the results"
   ]
  },
  {
   "cell_type": "code",
   "execution_count": 280,
   "id": "1d657794",
   "metadata": {},
   "outputs": [
    {
     "name": "stdout",
     "output_type": "stream",
     "text": [
      "Requirement already satisfied: torch in /Library/Frameworks/Python.framework/Versions/3.9/lib/python3.9/site-packages (1.10.2)\n",
      "Requirement already satisfied: typing-extensions in /Library/Frameworks/Python.framework/Versions/3.9/lib/python3.9/site-packages (from torch) (4.1.1)\n",
      "\u001b[33mWARNING: You are using pip version 21.2.4; however, version 22.0.3 is available.\n",
      "You should consider upgrading via the '/usr/local/bin/python3 -m pip install --upgrade pip' command.\u001b[0m\n",
      "Note: you may need to restart the kernel to use updated packages.\n"
     ]
    }
   ],
   "source": [
    "pip install torch"
   ]
  },
  {
   "cell_type": "code",
   "execution_count": 112,
   "id": "1ad4c1da",
   "metadata": {},
   "outputs": [
    {
     "name": "stdout",
     "output_type": "stream",
     "text": [
      "Requirement already satisfied: torchvision in /Library/Frameworks/Python.framework/Versions/3.9/lib/python3.9/site-packages (0.11.3)\n",
      "Requirement already satisfied: pillow!=8.3.0,>=5.3.0 in /Library/Frameworks/Python.framework/Versions/3.9/lib/python3.9/site-packages (from torchvision) (8.3.2)\n",
      "Requirement already satisfied: numpy in /Library/Frameworks/Python.framework/Versions/3.9/lib/python3.9/site-packages (from torchvision) (1.21.2)\n",
      "Requirement already satisfied: torch==1.10.2 in /Library/Frameworks/Python.framework/Versions/3.9/lib/python3.9/site-packages (from torchvision) (1.10.2)\n",
      "Requirement already satisfied: typing-extensions in /Library/Frameworks/Python.framework/Versions/3.9/lib/python3.9/site-packages (from torch==1.10.2->torchvision) (4.1.1)\n",
      "\u001b[33mWARNING: You are using pip version 21.2.4; however, version 22.0.3 is available.\n",
      "You should consider upgrading via the '/usr/local/bin/python3 -m pip install --upgrade pip' command.\u001b[0m\n",
      "Note: you may need to restart the kernel to use updated packages.\n"
     ]
    }
   ],
   "source": [
    "pip install torchvision"
   ]
  },
  {
   "cell_type": "code",
   "execution_count": 282,
   "id": "42bc00ac",
   "metadata": {},
   "outputs": [],
   "source": [
    "import torch\n",
    "from torchvision import datasets, transforms #To import MNIST dataset\n",
    "import torch.nn as nn\n",
    "import torch.nn.functional as F"
   ]
  },
  {
   "cell_type": "markdown",
   "id": "239ce74c",
   "metadata": {},
   "source": [
    "#### Load Data"
   ]
  },
  {
   "cell_type": "code",
   "execution_count": 283,
   "id": "ae63e3dd",
   "metadata": {},
   "outputs": [],
   "source": [
    "#Access the MNIST dataset\n",
    "traindata = datasets.MNIST(root=\"./data\", train=True, transform=transforms.ToTensor(), download=True)\n",
    "\n",
    "#Load the entire Data\n",
    "trainloader_full = torch.utils.data.DataLoader(traindata, batch_size=len(traindata), shuffle=True)\n",
    "\n",
    "'''Make the train (70%), validation (15%) and test (15%) splits'''\n",
    "X_train_py, X_val_py, X_test_py = torch.utils.data.random_split(traindata, [42000, 9000,9000])\n",
    "\n",
    "#Load train, validation and test data using DataLoader\n",
    "X_train_py_loader = torch.utils.data.DataLoader(X_train_py, batch_size=1, shuffle=True)\n",
    "X_val_py_loader = torch.utils.data.DataLoader(X_val_py, batch_size=len(X_val_py), shuffle=True)\n",
    "X_test_py_loader = torch.utils.data.DataLoader(X_test_py, batch_size=len(X_test_py), shuffle=True)"
   ]
  },
  {
   "cell_type": "markdown",
   "id": "122c4d26",
   "metadata": {},
   "source": [
    "#### Train Neural Net"
   ]
  },
  {
   "cell_type": "code",
   "execution_count": 306,
   "id": "13f1c2f4",
   "metadata": {},
   "outputs": [],
   "source": [
    "#Initialize the layers for the neural network\n",
    "input_layer = 784\n",
    "hidden_layer = 30\n",
    "output_layer = 10\n",
    "\n",
    "#Define the Neural Network model using Sigmoid function\n",
    "model = nn.Sequential(\n",
    "    nn.Linear(input_layer, hidden_layer),\n",
    "    nn.Sigmoid(),\n",
    "    nn.Linear(hidden_layer, output_layer),\n",
    "    nn.Sigmoid()\n",
    ")\n",
    "\n",
    "#creating lists to store accuracies and loss values\n",
    "py_val_acc_list = []\n",
    "py_train_acc_list = []\n",
    "py_val_loss_list = []\n",
    "py_train_loss_list = []\n",
    "\n",
    "# Define a train Neural Network function \n",
    "def train_nn_pytroch(epochs, batch_size, mse_loss, optimizer):\n",
    "    #Iterating for each epoch\n",
    "    for epochs in range(epochs):\n",
    "\n",
    "        #Iterating for each batch\n",
    "        for batch_size, data in enumerate(X_train_py_loader):\n",
    "            X_batch, y_batch = data\n",
    "            \n",
    "            #Forward propogation\n",
    "            forward_output = model(X_batch.view(-1,784))\n",
    "            \n",
    "            #Calculating loss for the outputs\n",
    "            loss = mse_loss(forward_output, F.one_hot(y_batch, num_classes=10).float())\n",
    "            \n",
    "            #Backward Propogation\n",
    "            optimizer.zero_grad()\n",
    "            loss.backward()\n",
    "\n",
    "            #Updating the parameters after backward propogation\n",
    "            optimizer.step()\n",
    "        \n",
    "        #Calculating the training accuray and loss for each epoch after training \n",
    "        for _,data in enumerate(trainloader_full):\n",
    "            X, y = data\n",
    "            forward_output = model(X.view(-1,784))\n",
    "\n",
    "            #Training accurcay \n",
    "            train_accuracy = 100*(torch.argmax(forward_output,dim=1) == y).sum()/len(X)\n",
    "            py_train_acc_list.append(train_accuracy)\n",
    "            \n",
    "            #Training loss\n",
    "            train_loss = mse_loss(forward_output, F.one_hot(y, num_classes=10).float())\n",
    "            py_train_loss_list.append(train_loss)\n",
    "\n",
    "            print('Epochs:{0}, Train_Accuracy: {1}, Train_Loss: {2}'.format(epochs, train_accuracy, train_loss))\n",
    "        \n",
    "        #Calculating the Validation accuray and loss for each epoch \n",
    "        for _,data in enumerate(X_val_py_loader):\n",
    "            X, y = data\n",
    "            forward_output = model(X.view(-1,784))\n",
    "\n",
    "            #Validation Accuracy\n",
    "            validation_accuracy = 100*(torch.argmax(forward_output,dim=1) == y).sum()/len(X)\n",
    "            py_val_acc_list.append(validation_accuracy)\n",
    "\n",
    "            #Validation loss\n",
    "            validation_loss = mse_loss(forward_output, F.one_hot(y, num_classes=10).float())\n",
    "            py_val_loss_list.append(validation_loss)\n",
    "            print('Epochs:{0}, Validation_Accuracy: {1}, Validation_Loss: {2}'.format(epochs, validation_accuracy, validation_loss))"
   ]
  },
  {
   "cell_type": "code",
   "execution_count": 299,
   "id": "cef6b27b",
   "metadata": {},
   "outputs": [
    {
     "name": "stdout",
     "output_type": "stream",
     "text": [
      "Epochs:0, Train_Accuracy: 25.815000534057617, Train_Loss: 0.08837579190731049\n",
      "Epochs:0, Validation_Accuracy: 25.455554962158203, Validation_Loss: 0.088372603058815\n",
      "Epochs:1, Train_Accuracy: 36.22666549682617, Train_Loss: 0.08454827964305878\n",
      "Epochs:1, Validation_Accuracy: 36.03333282470703, Validation_Loss: 0.08460096269845963\n",
      "Epochs:2, Train_Accuracy: 46.8466682434082, Train_Loss: 0.07586076855659485\n",
      "Epochs:2, Validation_Accuracy: 46.72222137451172, Validation_Loss: 0.07597117125988007\n",
      "Epochs:3, Train_Accuracy: 60.401668548583984, Train_Loss: 0.06605955958366394\n",
      "Epochs:3, Validation_Accuracy: 60.155555725097656, Validation_Loss: 0.06618423759937286\n",
      "Epochs:4, Train_Accuracy: 67.61499786376953, Train_Loss: 0.057044629007577896\n",
      "Epochs:4, Validation_Accuracy: 67.19999694824219, Validation_Loss: 0.05715060606598854\n",
      "Epochs:5, Train_Accuracy: 74.08333587646484, Train_Loss: 0.04987404868006706\n",
      "Epochs:5, Validation_Accuracy: 73.94444274902344, Validation_Loss: 0.04993787035346031\n",
      "Epochs:6, Train_Accuracy: 78.54666900634766, Train_Loss: 0.04442494735121727\n",
      "Epochs:6, Validation_Accuracy: 78.32221984863281, Validation_Loss: 0.04445676878094673\n",
      "Epochs:7, Train_Accuracy: 81.54166412353516, Train_Loss: 0.040145765990018845\n",
      "Epochs:7, Validation_Accuracy: 81.5888900756836, Validation_Loss: 0.040152717381715775\n",
      "Epochs:8, Train_Accuracy: 83.41500091552734, Train_Loss: 0.03671260178089142\n",
      "Epochs:8, Validation_Accuracy: 83.54444122314453, Validation_Loss: 0.03671097382903099\n",
      "Epochs:9, Train_Accuracy: 84.73666381835938, Train_Loss: 0.0339018739759922\n",
      "Epochs:9, Validation_Accuracy: 84.53333282470703, Validation_Loss: 0.03388265147805214\n",
      "Epochs:10, Train_Accuracy: 85.75833129882812, Train_Loss: 0.031577859073877335\n",
      "Epochs:10, Validation_Accuracy: 85.75555419921875, Validation_Loss: 0.031565260142087936\n",
      "Epochs:11, Train_Accuracy: 86.67666625976562, Train_Loss: 0.029614577069878578\n",
      "Epochs:11, Validation_Accuracy: 86.67778015136719, Validation_Loss: 0.029607823118567467\n",
      "Epochs:12, Train_Accuracy: 87.25166320800781, Train_Loss: 0.027941396459937096\n",
      "Epochs:12, Validation_Accuracy: 87.31111145019531, Validation_Loss: 0.027941172942519188\n",
      "Epochs:13, Train_Accuracy: 87.77666473388672, Train_Loss: 0.02650088258087635\n",
      "Epochs:13, Validation_Accuracy: 87.71111297607422, Validation_Loss: 0.026512224227190018\n",
      "Epochs:14, Train_Accuracy: 88.14666748046875, Train_Loss: 0.025266816839575768\n",
      "Epochs:14, Validation_Accuracy: 88.0999984741211, Validation_Loss: 0.02528136596083641\n",
      "Epochs:15, Train_Accuracy: 88.38999938964844, Train_Loss: 0.024195237085223198\n",
      "Epochs:15, Validation_Accuracy: 88.4000015258789, Validation_Loss: 0.024229058995842934\n",
      "Epochs:16, Train_Accuracy: 88.63166809082031, Train_Loss: 0.023265667259693146\n",
      "Epochs:16, Validation_Accuracy: 88.52222442626953, Validation_Loss: 0.023307617753744125\n",
      "Epochs:17, Train_Accuracy: 88.87333679199219, Train_Loss: 0.022455764934420586\n",
      "Epochs:17, Validation_Accuracy: 88.81111145019531, Validation_Loss: 0.022501885890960693\n",
      "Epochs:18, Train_Accuracy: 89.13999938964844, Train_Loss: 0.021747520193457603\n",
      "Epochs:18, Validation_Accuracy: 89.06666564941406, Validation_Loss: 0.02179289609193802\n",
      "Epochs:19, Train_Accuracy: 89.32166290283203, Train_Loss: 0.021122658625245094\n",
      "Epochs:19, Validation_Accuracy: 89.27777862548828, Validation_Loss: 0.021176384761929512\n",
      "Epochs:20, Train_Accuracy: 89.49500274658203, Train_Loss: 0.020574498921632767\n",
      "Epochs:20, Validation_Accuracy: 89.42222595214844, Validation_Loss: 0.020630285143852234\n",
      "Epochs:21, Train_Accuracy: 89.61833190917969, Train_Loss: 0.02006656676530838\n",
      "Epochs:21, Validation_Accuracy: 89.45555877685547, Validation_Loss: 0.02012740820646286\n",
      "Epochs:22, Train_Accuracy: 89.76166534423828, Train_Loss: 0.01961156167089939\n",
      "Epochs:22, Validation_Accuracy: 89.62222290039062, Validation_Loss: 0.019675439223647118\n",
      "Epochs:23, Train_Accuracy: 89.9366683959961, Train_Loss: 0.01920892670750618\n",
      "Epochs:23, Validation_Accuracy: 89.75555419921875, Validation_Loss: 0.019280927255749702\n",
      "Epochs:24, Train_Accuracy: 90.02166748046875, Train_Loss: 0.01883060671389103\n",
      "Epochs:24, Validation_Accuracy: 89.93333435058594, Validation_Loss: 0.018906431272625923\n",
      "Epochs:25, Train_Accuracy: 90.163330078125, Train_Loss: 0.018488142639398575\n",
      "Epochs:25, Validation_Accuracy: 90.07777404785156, Validation_Loss: 0.018567059189081192\n",
      "Epochs:26, Train_Accuracy: 90.29499816894531, Train_Loss: 0.018169157207012177\n",
      "Epochs:26, Validation_Accuracy: 90.19999694824219, Validation_Loss: 0.01824849843978882\n",
      "Epochs:27, Train_Accuracy: 90.3933334350586, Train_Loss: 0.017876483500003815\n",
      "Epochs:27, Validation_Accuracy: 90.31111145019531, Validation_Loss: 0.017958199605345726\n",
      "Epochs:28, Train_Accuracy: 90.54499816894531, Train_Loss: 0.017615972086787224\n",
      "Epochs:28, Validation_Accuracy: 90.4111099243164, Validation_Loss: 0.017716243863105774\n",
      "Epochs:29, Train_Accuracy: 90.61333465576172, Train_Loss: 0.01734873652458191\n",
      "Epochs:29, Validation_Accuracy: 90.5, Validation_Loss: 0.01744571328163147\n"
     ]
    }
   ],
   "source": [
    "#Calling the loss function - MSE Loss\n",
    "mse_loss = nn.MSELoss()\n",
    "\n",
    "#Optimizing using stochastic gradient descent \n",
    "optimizer = torch.optim.SGD(model.parameters(), lr=0.005)\n",
    "\n",
    "#Define epochs\n",
    "py_epochs = 30\n",
    "\n",
    "#Training the neural network for the defined parameters\n",
    "train_nn_pytroch(py_epochs,1, mse_loss, optimizer)"
   ]
  },
  {
   "cell_type": "code",
   "execution_count": 302,
   "id": "47d4c80d",
   "metadata": {},
   "outputs": [
    {
     "data": {
      "text/plain": [
       "Text(0.5, 1.0, 'Pytroch - Accuracy vs No. of Epochs')"
      ]
     },
     "execution_count": 302,
     "metadata": {},
     "output_type": "execute_result"
    },
    {
     "data": {
      "image/png": "[encoded data removed]",
      "text/plain": [
       "<Figure size 432x288 with 1 Axes>"
      ]
     },
     "metadata": {
      "needs_background": "light"
     },
     "output_type": "display_data"
    }
   ],
   "source": [
    "#Plotting train and validation outputs - pytroch\n",
    "epochs_list_py = list(range(1, py_epochs +1))\n",
    "plt.plot(epochs_list_py, py_train_acc_list, label='Train Accuracy')\n",
    "plt.plot(epochs_list_py, py_val_acc_list, label='Validation Accuracy')\n",
    "plt.legend()\n",
    "plt.xlabel(\"Epochs\")\n",
    "plt.ylabel(\"Accuracy\")\n",
    "plt.title(\"Pytroch - Train Accuracy vs Validation Accuracy\")"
   ]
  },
  {
   "cell_type": "markdown",
   "id": "dc938b44",
   "metadata": {},
   "source": [
    "#### Q3 - Using training tips and compare accuracy"
   ]
  },
  {
   "cell_type": "code",
   "execution_count": 307,
   "id": "9fbfff83",
   "metadata": {},
   "outputs": [
    {
     "name": "stdout",
     "output_type": "stream",
     "text": [
      "Epochs:0, Train_Accuracy: 91.88999938964844, Train_Loss: 1.5378748178482056\n",
      "Epochs:0, Validation_Accuracy: 91.71111297607422, Validation_Loss: 1.5410925149917603\n",
      "Epochs:1, Train_Accuracy: 91.163330078125, Train_Loss: 1.54116952419281\n",
      "Epochs:1, Validation_Accuracy: 90.94444274902344, Validation_Loss: 1.5442345142364502\n",
      "Epochs:2, Train_Accuracy: 92.46499633789062, Train_Loss: 1.5287505388259888\n",
      "Epochs:2, Validation_Accuracy: 92.22222137451172, Validation_Loss: 1.5322840213775635\n",
      "Epochs:3, Train_Accuracy: 93.12000274658203, Train_Loss: 1.5248360633850098\n",
      "Epochs:3, Validation_Accuracy: 92.93333435058594, Validation_Loss: 1.5293197631835938\n",
      "Epochs:4, Train_Accuracy: 92.81500244140625, Train_Loss: 1.532031536102295\n",
      "Epochs:4, Validation_Accuracy: 92.44444274902344, Validation_Loss: 1.5362131595611572\n",
      "Epochs:5, Train_Accuracy: 93.1500015258789, Train_Loss: 1.5263203382492065\n",
      "Epochs:5, Validation_Accuracy: 92.94444274902344, Validation_Loss: 1.5303703546524048\n",
      "Epochs:6, Train_Accuracy: 92.9816665649414, Train_Loss: 1.527035117149353\n",
      "Epochs:6, Validation_Accuracy: 92.54444122314453, Validation_Loss: 1.5309629440307617\n",
      "Epochs:7, Train_Accuracy: 92.91500091552734, Train_Loss: 1.5296698808670044\n",
      "Epochs:7, Validation_Accuracy: 92.5111083984375, Validation_Loss: 1.5329631567001343\n",
      "Epochs:8, Train_Accuracy: 93.06666564941406, Train_Loss: 1.5235563516616821\n",
      "Epochs:8, Validation_Accuracy: 92.57777404785156, Validation_Loss: 1.5288687944412231\n",
      "Epochs:9, Train_Accuracy: 93.07333374023438, Train_Loss: 1.5261502265930176\n",
      "Epochs:9, Validation_Accuracy: 92.61111450195312, Validation_Loss: 1.531306266784668\n",
      "Epochs:10, Train_Accuracy: 92.54166412353516, Train_Loss: 1.535136103630066\n",
      "Epochs:10, Validation_Accuracy: 91.9888916015625, Validation_Loss: 1.540991187095642\n",
      "Epochs:11, Train_Accuracy: 92.58999633789062, Train_Loss: 1.531974196434021\n",
      "Epochs:11, Validation_Accuracy: 92.05555725097656, Validation_Loss: 1.5353609323501587\n",
      "Epochs:12, Train_Accuracy: 92.64666748046875, Train_Loss: 1.5277811288833618\n",
      "Epochs:12, Validation_Accuracy: 92.25555419921875, Validation_Loss: 1.5310885906219482\n",
      "Epochs:13, Train_Accuracy: 92.78666687011719, Train_Loss: 1.5248585939407349\n",
      "Epochs:13, Validation_Accuracy: 92.4111099243164, Validation_Loss: 1.527425765991211\n",
      "Epochs:14, Train_Accuracy: 93.10333251953125, Train_Loss: 1.520976185798645\n",
      "Epochs:14, Validation_Accuracy: 92.54444122314453, Validation_Loss: 1.5260088443756104\n",
      "Epochs:15, Train_Accuracy: 92.73999786376953, Train_Loss: 1.5233826637268066\n",
      "Epochs:15, Validation_Accuracy: 92.14444732666016, Validation_Loss: 1.5267760753631592\n",
      "Epochs:16, Train_Accuracy: 93.04166412353516, Train_Loss: 1.522317886352539\n",
      "Epochs:16, Validation_Accuracy: 92.61111450195312, Validation_Loss: 1.526930809020996\n",
      "Epochs:17, Train_Accuracy: 93.09500122070312, Train_Loss: 1.5253621339797974\n",
      "Epochs:17, Validation_Accuracy: 92.46666717529297, Validation_Loss: 1.530256986618042\n",
      "Epochs:18, Train_Accuracy: 93.01333618164062, Train_Loss: 1.5273791551589966\n",
      "Epochs:18, Validation_Accuracy: 92.42222595214844, Validation_Loss: 1.5329740047454834\n",
      "Epochs:19, Train_Accuracy: 91.99333190917969, Train_Loss: 1.5337179899215698\n",
      "Epochs:19, Validation_Accuracy: 91.26667022705078, Validation_Loss: 1.5401582717895508\n",
      "Epochs:20, Train_Accuracy: 92.87999725341797, Train_Loss: 1.5265811681747437\n",
      "Epochs:20, Validation_Accuracy: 92.43333435058594, Validation_Loss: 1.5313668251037598\n",
      "Epochs:21, Train_Accuracy: 93.41500091552734, Train_Loss: 1.5202105045318604\n",
      "Epochs:21, Validation_Accuracy: 92.82221984863281, Validation_Loss: 1.5255749225616455\n",
      "Epochs:22, Train_Accuracy: 92.76667022705078, Train_Loss: 1.5249114036560059\n",
      "Epochs:22, Validation_Accuracy: 92.19999694824219, Validation_Loss: 1.5299862623214722\n",
      "Epochs:23, Train_Accuracy: 93.0616683959961, Train_Loss: 1.525861144065857\n",
      "Epochs:23, Validation_Accuracy: 92.57777404785156, Validation_Loss: 1.5306395292282104\n",
      "Epochs:24, Train_Accuracy: 93.2316665649414, Train_Loss: 1.5212100744247437\n",
      "Epochs:24, Validation_Accuracy: 92.33333587646484, Validation_Loss: 1.5286051034927368\n",
      "Epochs:25, Train_Accuracy: 93.1066665649414, Train_Loss: 1.5208295583724976\n",
      "Epochs:25, Validation_Accuracy: 92.28888702392578, Validation_Loss: 1.5264692306518555\n",
      "Epochs:26, Train_Accuracy: 93.23999786376953, Train_Loss: 1.522912859916687\n",
      "Epochs:26, Validation_Accuracy: 92.66666412353516, Validation_Loss: 1.5283491611480713\n",
      "Epochs:27, Train_Accuracy: 92.70500183105469, Train_Loss: 1.526449203491211\n",
      "Epochs:27, Validation_Accuracy: 91.94444274902344, Validation_Loss: 1.5342285633087158\n",
      "Epochs:28, Train_Accuracy: 92.67333221435547, Train_Loss: 1.5228902101516724\n",
      "Epochs:28, Validation_Accuracy: 91.95555877685547, Validation_Loss: 1.5291019678115845\n",
      "Epochs:29, Train_Accuracy: 92.8566665649414, Train_Loss: 1.5257772207260132\n",
      "Epochs:29, Validation_Accuracy: 92.27777862548828, Validation_Loss: 1.5325086116790771\n"
     ]
    }
   ],
   "source": [
    "#Calling the loss function - Cross Entropy Loss\n",
    "CrossEntroloss = nn.CrossEntropyLoss()\n",
    "\n",
    "#Optimizing using Adam algorithm\n",
    "adam_optimizer = torch.optim.Adam(model.parameters(), lr=0.005)\n",
    "\n",
    "#Define epochs\n",
    "py_epochs = 30\n",
    "\n",
    "#Training the neural network for the defined parameters\n",
    "train_nn_pytroch(py_epochs,1, CrossEntroloss, adam_optimizer)"
   ]
  },
  {
   "cell_type": "code",
   "execution_count": 308,
   "id": "0d37aba8",
   "metadata": {},
   "outputs": [
    {
     "data": {
      "text/plain": [
       "Text(0.5, 1.0, 'Pytroch - Train Accuracy vs Validation Accuracy')"
      ]
     },
     "execution_count": 308,
     "metadata": {},
     "output_type": "execute_result"
    },
    {
     "data": {
      "image/png": "[encoded data removed]",
      "text/plain": [
       "<Figure size 432x288 with 1 Axes>"
      ]
     },
     "metadata": {
      "needs_background": "light"
     },
     "output_type": "display_data"
    }
   ],
   "source": [
    "#Plotting train and validation outputs after using training tips\n",
    "epochs_list_py = list(range(1, py_epochs +1))\n",
    "plt.plot(epochs_list_py, py_train_acc_list, label='Train Accuracy')\n",
    "plt.plot(epochs_list_py, py_val_acc_list, label='Validation Accuracy')\n",
    "plt.legend()\n",
    "plt.xlabel(\"Epochs\")\n",
    "plt.ylabel(\"Accuracy\")\n",
    "plt.title(\"Pytroch - Train Accuracy vs Validation Accuracy\")"
   ]
  },
  {
   "cell_type": "markdown",
   "id": "fc53be77",
   "metadata": {},
   "source": [
    "#### The use of training tips results in a better accuracy by a significant amount. When comparing the accuracies of the neural network using SDG and Adam shows an increase in accuracy by 2%"
   ]
  }
 ],
 "metadata": {
  "interpreter": {
   "hash": "aee8b7b246df8f9039afb4144a1f6fd8d2ca17a180786b69acc140d282b71a49"
  },
  "kernelspec": {
   "display_name": "Python 3",
   "language": "python",
   "name": "python3"
  },
  "language_info": {
   "codemirror_mode": {
    "name": "ipython",
    "version": 3
   },
   "file_extension": ".py",
   "mimetype": "text/x-python",
   "name": "python",
   "nbconvert_exporter": "python",
   "pygments_lexer": "ipython3",
   "version": "3.8.8"
  }
 },
 "nbformat": 4,
 "nbformat_minor": 5
}
